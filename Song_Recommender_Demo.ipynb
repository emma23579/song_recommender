{
 "cells": [
  {
   "cell_type": "markdown",
   "id": "5858264f",
   "metadata": {
    "slideshow": {
     "slide_type": "slide"
    }
   },
   "source": [
    "# Song Recommender"
   ]
  },
  {
   "cell_type": "markdown",
   "id": "c17031ba",
   "metadata": {
    "slideshow": {
     "slide_type": "subslide"
    }
   },
   "source": [
    "Recommend a song to the user which is similar to their taste - if the song is currently hot give another hot song, otherwise give a song which has similar audio features"
   ]
  },
  {
   "cell_type": "code",
   "execution_count": 2,
   "id": "7e2be212",
   "metadata": {
    "slideshow": {
     "slide_type": "skip"
    }
   },
   "outputs": [],
   "source": [
    "import numpy as np\n",
    "import pandas as pd\n",
    "from sklearn import datasets # sklearn comes with some toy datasets to practise\n",
    "from sklearn.preprocessing import StandardScaler\n",
    "from sklearn.cluster import KMeans\n",
    "from matplotlib import pyplot\n",
    "from sklearn.metrics import silhouette_score\n",
    "import spotipy\n",
    "import config\n",
    "import json\n",
    "import pickle\n",
    "from spotipy.oauth2 import SpotifyClientCredentials\n",
    "from IPython.display import IFrame\n",
    "import random\n"
   ]
  },
  {
   "cell_type": "code",
   "execution_count": 3,
   "id": "6208974d",
   "metadata": {
    "slideshow": {
     "slide_type": "skip"
    }
   },
   "outputs": [],
   "source": [
    "sp = spotipy.Spotify(auth_manager=SpotifyClientCredentials(client_id= config.client_id,\n",
    "                                                           client_secret= config.client_secret))"
   ]
  },
  {
   "cell_type": "markdown",
   "id": "1eb63afb",
   "metadata": {},
   "source": [
    "<b> Import the previously collected data"
   ]
  },
  {
   "cell_type": "code",
   "execution_count": 4,
   "id": "fd8d33ea",
   "metadata": {
    "slideshow": {
     "slide_type": "skip"
    }
   },
   "outputs": [],
   "source": [
    "top_100_df = pd.read_csv('top_music_data').drop(['Unnamed: 0'], axis=1)\n",
    "features_df = pd.read_csv('features_data').drop(['Unnamed: 0'], axis=1)\n",
    "all_music_df = pd.read_csv('all_music_data').drop(['Unnamed: 0'], axis=1)"
   ]
  },
  {
   "cell_type": "markdown",
   "id": "d32e39c3",
   "metadata": {},
   "source": [
    "<b> Clean data and assign variables"
   ]
  },
  {
   "cell_type": "code",
   "execution_count": 5,
   "id": "15888b4e",
   "metadata": {
    "scrolled": true,
    "slideshow": {
     "slide_type": "skip"
    }
   },
   "outputs": [],
   "source": [
    "X = features_df._get_numeric_data()\n",
    "scaler = StandardScaler()\n",
    "scaler.fit(X)\n",
    "X_scaled = scaler.transform(X)\n",
    "X_scaled_df = pd.DataFrame(X_scaled, columns = X.columns)\n",
    "X_scaled_df.drop(columns=['duration_ms'])\n",
    "kmeans = KMeans(n_clusters=5, random_state=1234)\n",
    "kmeans.fit(X_scaled_df)\n",
    "clusters = kmeans.predict(X_scaled_df)\n",
    "X[\"cluster\"] = clusters"
   ]
  },
  {
   "cell_type": "markdown",
   "id": "a5c9064d",
   "metadata": {},
   "source": [
    "<b> Define song recommender function"
   ]
  },
  {
   "cell_type": "code",
   "execution_count": 6,
   "id": "4c59e622",
   "metadata": {},
   "outputs": [],
   "source": [
    "def song_recommender():\n",
    "    \n",
    "    song_request = input(\"Enter a song you like: \")\n",
    "    hot_list1 = list(top_100_df.song_title)\n",
    "    hot_list2 = [x.lower() for x in hot_list1]\n",
    "    random_song = random.choice(hot_list1)\n",
    "    random_artist = top_100_df.loc[top_100_df['song_title'] == random_song, 'artist'].values[0]\n",
    "    \n",
    "    while hot_list1 == hot_list1:\n",
    "                      \n",
    "        if song_request.lower() in hot_list2:\n",
    "            \n",
    "            track_id = sp.search(q='track:' + random_song, type='track')['tracks']['items'][0]['id']\n",
    "            frame = IFrame(src=f\"https://open.spotify.com/embed/track/{track_id}\",\n",
    "               width=\"320\",\n",
    "               height=\"80\",\n",
    "               frameborder=\"0\",\n",
    "               allowtransparency=\"true\",\n",
    "               allow=\"encrypted-media\",\n",
    "              )\n",
    "            return print(\"This is currently a hot song! \\nHere's another hot song you might like: \" + \" '\" + \n",
    "                         random_song + \"' \" + ' by ' + random_artist), display(frame)\n",
    "\n",
    "            \n",
    "        elif song_request.lower() not in hot_list2:\n",
    "            \n",
    "            try:\n",
    "                \n",
    "                user_song_id = sp.search(q='track:' + song_request, type='track')['tracks']['items'][0]['id']\n",
    "                song_name = sp.track('spotify:track:' + user_song_id)['name']\n",
    "                artist_name = sp.track('spotify:track:' + user_song_id)['artists'][0]['name']\n",
    "                user_features = pd.DataFrame(sp.audio_features(user_song_id))\n",
    "                user_X = user_features._get_numeric_data()\n",
    "                user_features_scaled = pd.DataFrame(scaler.transform(user_X), columns=user_X.columns)\n",
    "                cluster_number = kmeans.predict(user_features_scaled)[0]\n",
    "                chosen_cluster = X[X['cluster'] == cluster_number]\n",
    "                random_index = random.choice(chosen_cluster.index)\n",
    "                id_X = features_df.loc[random_index]['id']\n",
    "                frame = IFrame(src=f\"https://open.spotify.com/embed/track/{id_X}\",\n",
    "                               width=\"320\",\n",
    "                               height=\"80\",\n",
    "                               frameborder=\"0\",\n",
    "                               allowtransparency=\"true\",\n",
    "                               allow=\"encrypted-media\",\n",
    "                              )\n",
    "                answer = input(\"You chose \" + \" '\" + song_name + \"' \" + \" By \" + artist_name + \", is this correct? Y/N: \")\n",
    "                if answer.lower() in [\"yes\", \"y\"]:\n",
    "                    \n",
    "                    return print(\"Good choice! A similar song you might enjoy is: \" + \" '\" + all_music_df.loc[all_music_df['id'] == id_X, 'song_title'].iloc[0] + \"' \" + \n",
    "                         \" By \" + all_music_df.loc[all_music_df['id'] == id_X, 'artist'].iloc[0]), display(frame)\n",
    "                \n",
    "                elif answer.lower() in [\"no\", \"n\"]:\n",
    "                    \n",
    "                    song_request = input(\"Sorry about that! Try another song you like: \")\n",
    "\n",
    "            except:\n",
    "        \n",
    "                song_request = input(\"Didn't recognise that song! Try again: \")\n",
    "                continue\n",
    "                \n"
   ]
  },
  {
   "cell_type": "markdown",
   "id": "a06c4bd9",
   "metadata": {},
   "source": [
    "# Song Recommender Demo!"
   ]
  },
  {
   "cell_type": "code",
   "execution_count": 11,
   "id": "17cb2773",
   "metadata": {},
   "outputs": [
    {
     "name": "stdout",
     "output_type": "stream",
     "text": [
      "Enter a song you like: purple rain\n",
      "You chose  'Purple Rain'  By Prince, is this correct? Y/N: y\n",
      "Good choice! A similar song you might enjoy is:  'Chiquitita'  By ABBA\n"
     ]
    },
    {
     "data": {
      "text/html": [
       "\n",
       "        <iframe\n",
       "            width=\"320\"\n",
       "            height=\"80\"\n",
       "            src=\"https://open.spotify.com/embed/track/3Gps7N1WSfdjVc6qtc9oNU?frameborder=0&allowtransparency=true&allow=encrypted-media\"\n",
       "            frameborder=\"0\"\n",
       "            allowfullscreen\n",
       "        ></iframe>\n",
       "        "
      ],
      "text/plain": [
       "<IPython.lib.display.IFrame at 0x7fca71aaf0a0>"
      ]
     },
     "metadata": {},
     "output_type": "display_data"
    },
    {
     "data": {
      "text/plain": [
       "(None, None)"
      ]
     },
     "execution_count": 11,
     "metadata": {},
     "output_type": "execute_result"
    }
   ],
   "source": [
    "song_recommender()"
   ]
  },
  {
   "cell_type": "code",
   "execution_count": null,
   "id": "811c834e",
   "metadata": {},
   "outputs": [],
   "source": []
  },
  {
   "cell_type": "code",
   "execution_count": null,
   "id": "b3cf08dc",
   "metadata": {},
   "outputs": [],
   "source": []
  },
  {
   "cell_type": "code",
   "execution_count": null,
   "id": "014a563d",
   "metadata": {},
   "outputs": [],
   "source": [
    "# improvement: if wrong song chosen offer to input artist name too"
   ]
  },
  {
   "cell_type": "code",
   "execution_count": 236,
   "id": "40e5b8bd",
   "metadata": {},
   "outputs": [],
   "source": [
    "# def hot_song_rec():\n",
    "    \n",
    "#     hot_list1 = list(top_100_df.song_title)\n",
    "#     hot_list2 = [x.lower() for x in hot_list1]\n",
    "#     random_song = random.choice(hot_list1)\n",
    "#     random_artist = top_100_df.loc[top_100_df['song_title'] == random_song, 'artist'].values[0]\n",
    "    \n",
    "#     while hot_list1 == hot_list1:\n",
    "        \n",
    "#         song_request = input(\"Enter a song you like: \")\n",
    "        \n",
    "#         if song_request.lower() in hot_list2:\n",
    "            \n",
    "#             track_id = sp.search(q='track:' + random_song, type='track')['tracks']['items'][0]['id']\n",
    "#             frame = IFrame(src=f\"https://open.spotify.com/embed/track/{track_id}\",\n",
    "#                width=\"320\",\n",
    "#                height=\"80\",\n",
    "#                frameborder=\"0\",\n",
    "#                allowtransparency=\"true\",\n",
    "#                allow=\"encrypted-media\",\n",
    "#               )\n",
    "#             return print(\"This is currently a hot song! \\nHere's another hot song you might like: \" + \" '\" + \n",
    "#                          random_song + \"' \" + ' by ' + random_artist), display(frame)\n",
    "\n",
    "            \n",
    "#         elif song_request.lower() not in hot_list2:\n",
    "            \n",
    "#             while song_request == song_request:\n",
    "                \n",
    "#                 try:\n",
    "\n",
    "#                     user_song_id = sp.search(q='track:' + song_request, type='track')['tracks']['items'][0]['id']\n",
    "#                     song_name = sp.track('spotify:track:' + user_song_id)['name']\n",
    "#                     artist_name = sp.track('spotify:track:' + user_song_id)['artists'][0]['name']\n",
    "#                     user_features = pd.DataFrame(sp.audio_features(user_song_id))\n",
    "#                     user_X = user_features._get_numeric_data()\n",
    "#                     user_features_scaled = pd.DataFrame(scaler.transform(user_X), columns=user_X.columns)\n",
    "#                     cluster_number = kmeans.predict(user_features_scaled)[0]\n",
    "#                     chosen_cluster = X[X['cluster'] == cluster_number]\n",
    "#                     random_index = random.choice(chosen_cluster.index)\n",
    "#                     id_X = features_df.loc[random_index]['id']\n",
    "#                     frame = IFrame(src=f\"https://open.spotify.com/embed/track/{id_X}\",\n",
    "#                                    width=\"320\",\n",
    "#                                    height=\"80\",\n",
    "#                                    frameborder=\"0\",\n",
    "#                                    allowtransparency=\"true\",\n",
    "#                                    allow=\"encrypted-media\",\n",
    "#                                   )\n",
    "#                     answer = input(\"You chose \" + \" '\" + song_name + \"' \" + \" By \" + artist_name + \", is this correct? Y/N: \")\n",
    "#                     if answer.lower() in [\"yes\", \"y\"]:\n",
    "\n",
    "#                         return print(\"Good choice! A similar song you might enjoy is: \" + \" '\" + all_music_df.loc[all_music_df['id'] == id_X, 'song_title'].iloc[0] + \"' \" + \n",
    "#                              \" By \" + all_music_df.loc[all_music_df['id'] == id_X, 'artist'].iloc[0]), display(frame)\n",
    "\n",
    "#                     elif answer.lower() in [\"no\", \"n\"]:\n",
    "\n",
    "#                         artist1 = input(\"Sorry about that! Try entering the artist: \")\n",
    "#                         user_song_id = sp.search(q=\"artist:\" + artist1 + \" track:\" + song_request, type=\"track\")['tracks']['items'][0]['id']\n",
    "                        \n",
    "\n",
    "#                 except:\n",
    "\n",
    "#                     song_request = input(\"Didn't recognise that song! Try again: \")\n",
    "#                     continue\n",
    "                "
   ]
  },
  {
   "cell_type": "code",
   "execution_count": null,
   "id": "b90acf28",
   "metadata": {},
   "outputs": [],
   "source": []
  },
  {
   "cell_type": "code",
   "execution_count": null,
   "id": "a5d62a16",
   "metadata": {},
   "outputs": [],
   "source": []
  }
 ],
 "metadata": {
  "kernelspec": {
   "display_name": "Python 3 (ipykernel)",
   "language": "python",
   "name": "python3"
  },
  "language_info": {
   "codemirror_mode": {
    "name": "ipython",
    "version": 3
   },
   "file_extension": ".py",
   "mimetype": "text/x-python",
   "name": "python",
   "nbconvert_exporter": "python",
   "pygments_lexer": "ipython3",
   "version": "3.9.6"
  }
 },
 "nbformat": 4,
 "nbformat_minor": 5
}
